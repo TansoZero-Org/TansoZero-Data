{
  "cells": [
    {
      "cell_type": "markdown",
      "metadata": {
        "colab_type": "text",
        "id": "view-in-github"
      },
      "source": [
        "<a href=\"https://colab.research.google.com/github/life-ofpi/TansoZero-Data/blob/main/%ED%83%84%EC%86%8C_%ED%9A%8C%ED%94%BC%EB%9F%89_predict_model.ipynb\" target=\"_parent\"><img src=\"https://colab.research.google.com/assets/colab-badge.svg\" alt=\"Open In Colab\"/></a>"
      ]
    },
    {
      "cell_type": "code",
      "execution_count": 2,
      "metadata": {
        "colab": {
          "base_uri": "https://localhost:8080/"
        },
        "id": "5iPkpVJ_fcb8",
        "outputId": "8cee77b1-2a6b-4cce-e7f9-761477737648"
      },
      "outputs": [],
      "source": [
        "\n",
        "import pandas as pd\n",
        "import matplotlib.pyplot as plt\n",
        "import seaborn as sns\n",
        "from sklearn.linear_model import LinearRegression\n",
        "\n",
        "base_path = \"/content/drive/MyDrive/2025_SI/project\"\n",
        "df_contracts = pd.read_excel(\"../Data/신재생에너지 계약 현황 목록.xlsx\")\n",
        "df_generation = pd.read_excel(\"../Data/지역별 신재생 에너지 발전량.xlsx\")\n",
        "df_consumption = pd.read_csv(\"../Data/연도별 지역별 전력 사용량.csv\", encoding='utf-8')\n"
      ]
    },
    {
      "cell_type": "code",
      "execution_count": 3,
      "metadata": {
        "id": "NHEY-lanmVIy"
      },
      "outputs": [],
      "source": [
        "df_contracts.columns = df_contracts.iloc[0]\n",
        "df_contracts = df_contracts.drop(0)\n",
        "\n",
        "replace_dict = {\n",
        "    '강원특별자치도': '강원',\n",
        "    '경기도': '경기',\n",
        "    '경상북도': '경북',\n",
        "    '경상남도': '경남',\n",
        "    '전라북도': '전북',\n",
        "    '전라남도': '전남',\n",
        "    '전북특별자치도': '전북',\n",
        "    '충청북도': '충북',\n",
        "    '충청남도': '충남',\n",
        "    '제주특별자치도': '제주',\n",
        "    '서울특별시': '서울',\n",
        "    '부산광역시': '부산',\n",
        "    '대구광역시': '대구',\n",
        "    '인천광역시': '인천',\n",
        "    '광주광역시': '광주',\n",
        "    '대전광역시': '대전',\n",
        "    '울산광역시': '울산',\n",
        "    '세종특별자치시': '세종'\n",
        "}\n",
        "\n",
        "df_contracts['시도구분'] = df_contracts['지역구분'].replace(replace_dict)\n",
        "df_consumption['광역지자체']=df_consumption['광역지자체'].replace(replace_dict)\n"
      ]
    },
    {
      "cell_type": "code",
      "execution_count": 4,
      "metadata": {
        "colab": {
          "base_uri": "https://localhost:8080/",
          "height": 206
        },
        "id": "LE3ce6AGkIBE",
        "outputId": "bcd0c6d4-d7d6-4a92-ddb0-dc858c9c2e1f"
      },
      "outputs": [
        {
          "data": {
            "text/html": [
              "<div>\n",
              "<style scoped>\n",
              "    .dataframe tbody tr th:only-of-type {\n",
              "        vertical-align: middle;\n",
              "    }\n",
              "\n",
              "    .dataframe tbody tr th {\n",
              "        vertical-align: top;\n",
              "    }\n",
              "\n",
              "    .dataframe thead th {\n",
              "        text-align: right;\n",
              "    }\n",
              "</style>\n",
              "<table border=\"1\" class=\"dataframe\">\n",
              "  <thead>\n",
              "    <tr style=\"text-align: right;\">\n",
              "      <th></th>\n",
              "      <th>발전원</th>\n",
              "      <th>지역구분</th>\n",
              "      <th>시도구분</th>\n",
              "      <th>개수</th>\n",
              "      <th>용량</th>\n",
              "      <th>지역개수</th>\n",
              "      <th>지역용량</th>\n",
              "      <th>연도</th>\n",
              "    </tr>\n",
              "  </thead>\n",
              "  <tbody>\n",
              "    <tr>\n",
              "      <th>1</th>\n",
              "      <td>태양광</td>\n",
              "      <td>강원특별자치도</td>\n",
              "      <td>강원</td>\n",
              "      <td>120</td>\n",
              "      <td>10046.06</td>\n",
              "      <td>1420</td>\n",
              "      <td>163,529.16</td>\n",
              "      <td>2024</td>\n",
              "    </tr>\n",
              "    <tr>\n",
              "      <th>2</th>\n",
              "      <td>태양광</td>\n",
              "      <td>강원특별자치도</td>\n",
              "      <td>강원</td>\n",
              "      <td>116</td>\n",
              "      <td>11968.6</td>\n",
              "      <td>1420</td>\n",
              "      <td>163,529.16</td>\n",
              "      <td>2024</td>\n",
              "    </tr>\n",
              "    <tr>\n",
              "      <th>3</th>\n",
              "      <td>태양광</td>\n",
              "      <td>강원특별자치도</td>\n",
              "      <td>강원</td>\n",
              "      <td>10</td>\n",
              "      <td>572.25</td>\n",
              "      <td>1420</td>\n",
              "      <td>163,529.16</td>\n",
              "      <td>2024</td>\n",
              "    </tr>\n",
              "    <tr>\n",
              "      <th>4</th>\n",
              "      <td>태양광</td>\n",
              "      <td>강원특별자치도</td>\n",
              "      <td>강원</td>\n",
              "      <td>34</td>\n",
              "      <td>10617.11</td>\n",
              "      <td>1420</td>\n",
              "      <td>163,529.16</td>\n",
              "      <td>2024</td>\n",
              "    </tr>\n",
              "    <tr>\n",
              "      <th>5</th>\n",
              "      <td>태양광</td>\n",
              "      <td>강원특별자치도</td>\n",
              "      <td>강원</td>\n",
              "      <td>10</td>\n",
              "      <td>619.97</td>\n",
              "      <td>1420</td>\n",
              "      <td>163,529.16</td>\n",
              "      <td>2024</td>\n",
              "    </tr>\n",
              "  </tbody>\n",
              "</table>\n",
              "</div>"
            ],
            "text/plain": [
              "0  발전원     지역구분 시도구분   개수        용량  지역개수        지역용량    연도\n",
              "1  태양광  강원특별자치도   강원  120  10046.06  1420  163,529.16  2024\n",
              "2  태양광  강원특별자치도   강원  116   11968.6  1420  163,529.16  2024\n",
              "3  태양광  강원특별자치도   강원   10    572.25  1420  163,529.16  2024\n",
              "4  태양광  강원특별자치도   강원   34  10617.11  1420  163,529.16  2024\n",
              "5  태양광  강원특별자치도   강원   10    619.97  1420  163,529.16  2024"
            ]
          },
          "execution_count": 4,
          "metadata": {},
          "output_type": "execute_result"
        }
      ],
      "source": [
        "df_contracts .head()"
      ]
    },
    {
      "cell_type": "code",
      "execution_count": 5,
      "metadata": {
        "id": "Ql9nzUfLmXw-"
      },
      "outputs": [],
      "source": [
        "#계약량 전처리\n",
        "df_contracts = df_contracts.rename(columns={\n",
        "    '시도구분': '광역지자체',\n",
        "    '지역용량': '계약용량(kW)'\n",
        "})\n",
        "df_contracts = df_contracts[['광역지자체', '연도', '계약용량(kW)']]\n",
        "df_contracts['계약용량(kW)'] = df_contracts['계약용량(kW)'].astype(str).str.replace(',', '')\n",
        "df_contracts['계약용량(kW)'] = pd.to_numeric(df_contracts['계약용량(kW)'], errors='coerce')\n",
        "df_contracts['연도'] = pd.to_numeric(df_contracts['연도'], errors='coerce')\n",
        "df_contracts = df_contracts.dropna(subset=['계약용량(kW)', '연도'])\n",
        "df_contracts = df_contracts.drop_duplicates(subset=['광역지자체', '연도'])\n",
        "\n",
        "# 발전량 전처리\n",
        "df_generation = df_generation.rename(columns={'신재생에너지 합계': '발전량(MWh)'})\n",
        "df_generation = df_generation[['연도', '광역지자체', '발전량(MWh)']]\n",
        "\n",
        "# 소비량(사용량) 전처리\n",
        "df_consumption = df_consumption.rename(columns={'총합': '전력소비량(MWh)'})\n",
        "df_consumption = df_consumption[['연도', '광역지자체', '전력소비량(MWh)']]\n",
        "#단위 보정 (MWh로 변환)\n",
        "df_consumption['전력소비량(MWh)'] = df_consumption['전력소비량(MWh)'] / 1000\n"
      ]
    },
    {
      "cell_type": "code",
      "execution_count": 6,
      "metadata": {
        "id": "qR1uUKS-p4mr"
      },
      "outputs": [],
      "source": [
        "def simplify_region(region):\n",
        "    if pd.isna(region): return None\n",
        "    region = str(region)\n",
        "    for key in [\"서울\", \"부산\", \"대구\", \"인천\", \"광주\", \"대전\", \"울산\", \"세종\",\n",
        "                \"경기\", \"강원\", \"충북\", \"충남\", \"전북\", \"전남\", \"경북\", \"경남\", \"제주\"]:\n",
        "        if key in region:\n",
        "            return key\n",
        "    return region\n",
        "\n",
        "#지역명 통일(혹시모르니까 한번 더)\n",
        "df_contracts['지역'] = df_contracts['광역지자체'].apply(simplify_region)\n",
        "df_generation['지역'] = df_generation['광역지자체'].apply(simplify_region)\n",
        "df_consumption['지역'] = df_consumption['광역지자체'].apply(simplify_region)\n",
        "\n",
        "# 최종 테이블 정리\n",
        "df_contracts_final = df_contracts[['연도', '지역', '계약용량(kW)']]\n",
        "df_generation_final = df_generation[['연도', '지역', '발전량(MWh)']]\n",
        "df_consumption_final = df_consumption[['연도', '지역', '전력소비량(MWh)']]\n",
        "\n",
        "# 병합\n",
        "df_merged = df_contracts_final.merge(df_generation_final, on=['연도', '지역'], how='inner')\n",
        "df_merged = df_merged.merge(df_consumption_final, on=['연도', '지역'], how='inner')\n",
        "\n",
        "# 자립도 및 탄소회피량 계산\n",
        "df_merged['자립도'] = df_merged['발전량(MWh)'] / df_merged['전력소비량(MWh)']\n",
        "df_merged['탄소회피량(tCO2)'] = df_merged['발전량(MWh)'] * 0.4781\n",
        "#발전량 * 전력생상 1MWh당 회피 가능한 탄소 배출량(최근 기준)\n",
        "#df_merge확인해보면 발전량은 다른 data랑 달리 2012년부터 있기때문에 nan이 많음. 일단 제거"
      ]
    },
    {
      "cell_type": "code",
      "execution_count": 7,
      "metadata": {
        "colab": {
          "base_uri": "https://localhost:8080/",
          "height": 310
        },
        "id": "MChC6ap6iNzu",
        "outputId": "3d61ee78-e78e-4cc3-d77b-3c1b2364c283"
      },
      "outputs": [
        {
          "data": {
            "text/html": [
              "<div>\n",
              "<style scoped>\n",
              "    .dataframe tbody tr th:only-of-type {\n",
              "        vertical-align: middle;\n",
              "    }\n",
              "\n",
              "    .dataframe tbody tr th {\n",
              "        vertical-align: top;\n",
              "    }\n",
              "\n",
              "    .dataframe thead th {\n",
              "        text-align: right;\n",
              "    }\n",
              "</style>\n",
              "<table border=\"1\" class=\"dataframe\">\n",
              "  <thead>\n",
              "    <tr style=\"text-align: right;\">\n",
              "      <th></th>\n",
              "      <th>연도</th>\n",
              "      <th>지역</th>\n",
              "      <th>계약용량(kW)</th>\n",
              "      <th>발전량(MWh)</th>\n",
              "      <th>전력소비량(MWh)</th>\n",
              "      <th>자립도</th>\n",
              "      <th>탄소회피량(tCO2)</th>\n",
              "    </tr>\n",
              "  </thead>\n",
              "  <tbody>\n",
              "    <tr>\n",
              "      <th>44</th>\n",
              "      <td>2021</td>\n",
              "      <td>전남</td>\n",
              "      <td>363064.93</td>\n",
              "      <td>6158271</td>\n",
              "      <td>3.348689e+07</td>\n",
              "      <td>0.183901</td>\n",
              "      <td>2.944269e+06</td>\n",
              "    </tr>\n",
              "    <tr>\n",
              "      <th>45</th>\n",
              "      <td>2021</td>\n",
              "      <td>전북</td>\n",
              "      <td>456449.20</td>\n",
              "      <td>8325469</td>\n",
              "      <td>2.148686e+07</td>\n",
              "      <td>0.387468</td>\n",
              "      <td>3.980407e+06</td>\n",
              "    </tr>\n",
              "    <tr>\n",
              "      <th>46</th>\n",
              "      <td>2021</td>\n",
              "      <td>제주</td>\n",
              "      <td>45307.21</td>\n",
              "      <td>2662500</td>\n",
              "      <td>5.687730e+06</td>\n",
              "      <td>0.468113</td>\n",
              "      <td>1.272941e+06</td>\n",
              "    </tr>\n",
              "    <tr>\n",
              "      <th>47</th>\n",
              "      <td>2021</td>\n",
              "      <td>충남</td>\n",
              "      <td>272245.10</td>\n",
              "      <td>8489538</td>\n",
              "      <td>4.880163e+07</td>\n",
              "      <td>0.173960</td>\n",
              "      <td>4.058848e+06</td>\n",
              "    </tr>\n",
              "    <tr>\n",
              "      <th>48</th>\n",
              "      <td>2021</td>\n",
              "      <td>충북</td>\n",
              "      <td>138272.89</td>\n",
              "      <td>2225401</td>\n",
              "      <td>2.840206e+07</td>\n",
              "      <td>0.078353</td>\n",
              "      <td>1.063964e+06</td>\n",
              "    </tr>\n",
              "  </tbody>\n",
              "</table>\n",
              "</div>"
            ],
            "text/plain": [
              "      연도  지역   계약용량(kW)  발전량(MWh)    전력소비량(MWh)       자립도   탄소회피량(tCO2)\n",
              "44  2021  전남  363064.93   6158271  3.348689e+07  0.183901  2.944269e+06\n",
              "45  2021  전북  456449.20   8325469  2.148686e+07  0.387468  3.980407e+06\n",
              "46  2021  제주   45307.21   2662500  5.687730e+06  0.468113  1.272941e+06\n",
              "47  2021  충남  272245.10   8489538  4.880163e+07  0.173960  4.058848e+06\n",
              "48  2021  충북  138272.89   2225401  2.840206e+07  0.078353  1.063964e+06"
            ]
          },
          "execution_count": 7,
          "metadata": {},
          "output_type": "execute_result"
        }
      ],
      "source": [
        "df_merged.tail(5)"
      ]
    },
    {
      "cell_type": "code",
      "execution_count": 8,
      "metadata": {
        "colab": {
          "base_uri": "https://localhost:8080/",
          "height": 887
        },
        "id": "3MKxmnUcEUxB",
        "outputId": "8b889529-ed49-456f-b0e3-7d5d17fb75fd"
      },
      "outputs": [
        {
          "name": "stderr",
          "output_type": "stream",
          "text": [
            "c:\\Users\\gus10\\AppData\\Local\\Programs\\Python\\Python38\\lib\\site-packages\\tqdm\\auto.py:21: TqdmWarning: IProgress not found. Please update jupyter and ipywidgets. See https://ipywidgets.readthedocs.io/en/stable/user_install.html\n",
            "  from .autonotebook import tqdm as notebook_tqdm\n",
            "11:14:09 - cmdstanpy - INFO - Chain [1] start processing\n",
            "11:14:14 - cmdstanpy - INFO - Chain [1] done processing\n"
          ]
        },
        {
          "data": {
            "image/png": "[encoded data removed]",
            "text/plain": [
              "<Figure size 1000x600 with 1 Axes>"
            ]
          },
          "metadata": {},
          "output_type": "display_data"
        }
      ],
      "source": [
        "from sklearn.model_selection import train_test_split\n",
        "from sklearn.linear_model import LinearRegression\n",
        "from sklearn.metrics import r2_score, mean_squared_error\n",
        "import pandas as pd\n",
        "import matplotlib.pyplot as plt\n",
        "from prophet import Prophet\n",
        "\n",
        "#1.결측치 제거\n",
        "df_model = df_merged.dropna(subset=['계약용량(kW)', '발전량(MWh)', '전력소비량(MWh)', '자립도'])\n",
        "\n",
        "#2.발전량 예측 모델 학습\n",
        "X = df_model[['계약용량(kW)', '전력소비량(MWh)', '자립도']]\n",
        "y = df_model['발전량(MWh)']\n",
        "X_train, X_test, y_train, y_test = train_test_split(X, y, test_size=0.2, random_state=42)\n",
        "reg = LinearRegression()\n",
        "reg.fit(X_train, y_train)\n",
        "\n",
        "#3.예측된 발전량으로 탄소회피량 공식 계산\n",
        "df_model['예측_발전량(MWh)'] = reg.predict(X)\n",
        "carbon_emission_factor = 0.4781\n",
        "df_model['예측_탄소회피량(tCO2)'] = df_model['예측_발전량(MWh)'] * carbon_emission_factor\n",
        "\n",
        "#4.연도별 평균값 생성\n",
        "df_avg = df_model.groupby('연도')[['계약용량(kW)', '전력소비량(MWh)', '자립도', '예측_발전량(MWh)', '예측_탄소회피량(tCO2)']].mean().reset_index()\n",
        "df_avg['ds'] = pd.to_datetime(df_avg['연도'], format='%Y')\n",
        "df_avg = df_avg.drop(columns=['연도'])\n",
        "\n",
        "#5.Prophet 시계열 예측 (예측된 탄소회피량 기준)\n",
        "df_prophet = df_avg[['ds', '예측_탄소회피량(tCO2)']].rename(columns={'예측_탄소회피량(tCO2)': 'y'})\n",
        "model = Prophet()\n",
        "model.fit(df_prophet)\n",
        "future = model.make_future_dataframe(periods=10, freq='Y')\n",
        "forecast = model.predict(future)\n",
        "\n",
        "#6.시각화\n",
        "model.plot(forecast)\n",
        "plt.title(\"Forecast of Carbon Avoidance (with Predicted Generation)\")\n",
        "plt.xlabel(\"Year\")\n",
        "plt.ylabel(\"Carbon Avoidance (tCO₂)\")\n",
        "plt.tight_layout()\n",
        "plt.show()\n"
      ]
    },
    {
      "cell_type": "code",
      "execution_count": 14,
      "metadata": {},
      "outputs": [
        {
          "data": {
            "image/png": "[encoded data removed]",
            "text/plain": [
              "<Figure size 800x600 with 2 Axes>"
            ]
          },
          "metadata": {},
          "output_type": "display_data"
        }
      ],
      "source": [
        "import seaborn as sns\n",
        "\n",
        "# 상관관계 행렬 계산\n",
        "corr_matrix = df_model[['계약용량(kW)', '전력소비량(MWh)', '자립도', '발전량(MWh)']].corr()\n",
        "\n",
        "# 히트맵 시각화\n",
        "plt.figure(figsize=(8,6))\n",
        "sns.heatmap(corr_matrix, annot=True, cmap='coolwarm', fmt=\".2f\")\n",
        "plt.title(\"Correlation Heatmap\")\n",
        "plt.show()\n"
      ]
    },
    {
      "cell_type": "code",
      "execution_count": 10,
      "metadata": {
        "colab": {
          "base_uri": "https://localhost:8080/",
          "height": 457
        },
        "id": "b87T7N9AH6uk",
        "outputId": "93e34050-175f-4897-b949-941f859e83c4"
      },
      "outputs": [
        {
          "data": {
            "text/html": [
              "<div>\n",
              "<style scoped>\n",
              "    .dataframe tbody tr th:only-of-type {\n",
              "        vertical-align: middle;\n",
              "    }\n",
              "\n",
              "    .dataframe tbody tr th {\n",
              "        vertical-align: top;\n",
              "    }\n",
              "\n",
              "    .dataframe thead th {\n",
              "        text-align: right;\n",
              "    }\n",
              "</style>\n",
              "<table border=\"1\" class=\"dataframe\">\n",
              "  <thead>\n",
              "    <tr style=\"text-align: right;\">\n",
              "      <th></th>\n",
              "      <th>yhat</th>\n",
              "      <th>yhat_lower</th>\n",
              "      <th>yhat_upper</th>\n",
              "    </tr>\n",
              "    <tr>\n",
              "      <th>연도</th>\n",
              "      <th></th>\n",
              "      <th></th>\n",
              "      <th></th>\n",
              "    </tr>\n",
              "  </thead>\n",
              "  <tbody>\n",
              "    <tr>\n",
              "      <th>2021</th>\n",
              "      <td>1624107.28</td>\n",
              "      <td>1624107.28</td>\n",
              "      <td>1624107.28</td>\n",
              "    </tr>\n",
              "    <tr>\n",
              "      <th>2022</th>\n",
              "      <td>1612700.21</td>\n",
              "      <td>1612700.21</td>\n",
              "      <td>1612700.21</td>\n",
              "    </tr>\n",
              "    <tr>\n",
              "      <th>2023</th>\n",
              "      <td>1512579.79</td>\n",
              "      <td>1492618.80</td>\n",
              "      <td>1534400.32</td>\n",
              "    </tr>\n",
              "    <tr>\n",
              "      <th>2024</th>\n",
              "      <td>1923125.44</td>\n",
              "      <td>1790792.48</td>\n",
              "      <td>2062613.37</td>\n",
              "    </tr>\n",
              "    <tr>\n",
              "      <th>2025</th>\n",
              "      <td>2050269.66</td>\n",
              "      <td>1774163.64</td>\n",
              "      <td>2345130.57</td>\n",
              "    </tr>\n",
              "    <tr>\n",
              "      <th>2026</th>\n",
              "      <td>2189517.84</td>\n",
              "      <td>1734237.75</td>\n",
              "      <td>2640219.54</td>\n",
              "    </tr>\n",
              "    <tr>\n",
              "      <th>2027</th>\n",
              "      <td>2340994.92</td>\n",
              "      <td>1679877.51</td>\n",
              "      <td>2948266.90</td>\n",
              "    </tr>\n",
              "    <tr>\n",
              "      <th>2028</th>\n",
              "      <td>2943487.33</td>\n",
              "      <td>2086183.04</td>\n",
              "      <td>3732203.53</td>\n",
              "    </tr>\n",
              "    <tr>\n",
              "      <th>2029</th>\n",
              "      <td>3070631.56</td>\n",
              "      <td>1980337.15</td>\n",
              "      <td>4079353.57</td>\n",
              "    </tr>\n",
              "    <tr>\n",
              "      <th>2030</th>\n",
              "      <td>3209879.74</td>\n",
              "      <td>1864526.36</td>\n",
              "      <td>4457545.39</td>\n",
              "    </tr>\n",
              "    <tr>\n",
              "      <th>2031</th>\n",
              "      <td>3361356.82</td>\n",
              "      <td>1736566.21</td>\n",
              "      <td>4888532.07</td>\n",
              "    </tr>\n",
              "    <tr>\n",
              "      <th>2032</th>\n",
              "      <td>3963849.23</td>\n",
              "      <td>2101681.83</td>\n",
              "      <td>5762558.08</td>\n",
              "    </tr>\n",
              "  </tbody>\n",
              "</table>\n",
              "</div>"
            ],
            "text/plain": [
              "            yhat  yhat_lower  yhat_upper\n",
              "연도                                      \n",
              "2021  1624107.28  1624107.28  1624107.28\n",
              "2022  1612700.21  1612700.21  1612700.21\n",
              "2023  1512579.79  1492618.80  1534400.32\n",
              "2024  1923125.44  1790792.48  2062613.37\n",
              "2025  2050269.66  1774163.64  2345130.57\n",
              "2026  2189517.84  1734237.75  2640219.54\n",
              "2027  2340994.92  1679877.51  2948266.90\n",
              "2028  2943487.33  2086183.04  3732203.53\n",
              "2029  3070631.56  1980337.15  4079353.57\n",
              "2030  3209879.74  1864526.36  4457545.39\n",
              "2031  3361356.82  1736566.21  4888532.07\n",
              "2032  3963849.23  2101681.83  5762558.08"
            ]
          },
          "execution_count": 10,
          "metadata": {},
          "output_type": "execute_result"
        }
      ],
      "source": [
        "forecast['연도'] = forecast['ds'].dt.year\n",
        "# 연도별 yhat 평균 계산\n",
        "yearly_avg = forecast.groupby('연도')[['yhat', 'yhat_lower', 'yhat_upper']].mean().round(2)\n",
        "yearly_avg\n",
        "#yhat\t예측된 탄소회피량\n",
        "#yhat_lower\t예측 하한값 (신뢰구간 80~90%)\n",
        "#yhat_upper\t예측 상한값"
      ]
    },
    {
      "cell_type": "markdown",
      "metadata": {
        "id": "gQwXy0IrE2IW"
      },
      "source": [
        "▶️ 전반적인 예측 추세\n",
        "2024년 일시 하락 후, 2025년부터 탄소회피량이 지속적으로 증가하는 예측\n",
        "\n",
        "2033년까지 탄소회피량이 500만 tCO₂를 넘는 수준으로 상승함\n",
        "\n"
      ]
    },
    {
      "cell_type": "code",
      "execution_count": 11,
      "metadata": {
        "colab": {
          "base_uri": "https://localhost:8080/"
        },
        "id": "k8pNSNF3FVg3",
        "outputId": "695b9d66-1689-46b8-8d08-0e5db2d910d1"
      },
      "outputs": [
        {
          "name": "stdout",
          "output_type": "stream",
          "text": [
            "R²: 0.9185043222170121\n",
            "MSE: 553088146000.3342\n"
          ]
        }
      ],
      "source": [
        "#RandomForest로도 해보기\n",
        "from sklearn.ensemble import RandomForestRegressor\n",
        "from sklearn.metrics import r2_score, mean_squared_error\n",
        "\n",
        "X = df_model[['계약용량(kW)', '전력소비량(MWh)', '자립도']]\n",
        "y = df_model['발전량(MWh)']\n",
        "\n",
        "X_train, X_test, y_train, y_test = train_test_split(X, y, test_size=0.2, random_state=42)\n",
        "\n",
        "# 모델 교체\n",
        "model = RandomForestRegressor(n_estimators=100, random_state=42)\n",
        "model.fit(X_train, y_train)\n",
        "y_pred = model.predict(X_test)\n",
        "\n",
        "# 성능 확인\n",
        "print(\"R²:\", r2_score(y_test, y_pred))\n",
        "print(\"MSE:\", mean_squared_error(y_test, y_pred))\n",
        "\n",
        "df_model['예측_발전량(MWh)'] = model.predict(X)\n",
        "df_model['예측_탄소회피량(tCO2)'] = df_model['예측_발전량(MWh)'] * 0.4781\n",
        "#R² (결정계수): 0.9185 < 우수한 예측력\n"
      ]
    },
    {
      "cell_type": "code",
      "execution_count": null,
      "metadata": {
        "id": "qv39-X5AG8_t"
      },
      "outputs": [],
      "source": []
    }
  ],
  "metadata": {
    "colab": {
      "authorship_tag": "ABX9TyNUFcIR+okiMLYQgNixwZnb",
      "include_colab_link": true,
      "mount_file_id": "1mb2bJURVQZtezAtZPCTl26QJXj4TibG5",
      "provenance": []
    },
    "kernelspec": {
      "display_name": "Python 3",
      "name": "python3"
    },
    "language_info": {
      "codemirror_mode": {
        "name": "ipython",
        "version": 3
      },
      "file_extension": ".py",
      "mimetype": "text/x-python",
      "name": "python",
      "nbconvert_exporter": "python",
      "pygments_lexer": "ipython3",
      "version": "3.8.10"
    }
  },
  "nbformat": 4,
  "nbformat_minor": 0
}
